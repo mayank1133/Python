{
 "cells": [
  {
   "cell_type": "markdown",
   "metadata": {},
   "source": [
    "\n",
    "<a href='https://www.darshan.ac.in/'> <img src='https://www.darshan.ac.in/Content/media/DU_Logo.svg' width=\"250\" height=\"300\"/></a>\n",
    "<pre>\n",
    "<center><b><h1>Python Programming - 2301CS404</b></center>\n",
    "<center><b><h1>Lab - 2</b></center>    \n",
    "<pre>"
   ]
  },
  {
   "cell_type": "markdown",
   "metadata": {},
   "source": [
    "# if..else.."
   ]
  },
  {
   "cell_type": "markdown",
   "metadata": {},
   "source": [
    "### 01) WAP to check whether the given number is positive or negative."
   ]
  },
  {
   "cell_type": "code",
   "execution_count": 1,
   "metadata": {},
   "outputs": [
    {
     "name": "stdout",
     "output_type": "stream",
     "text": [
      "Enter number:-5\n",
      "positive\n"
     ]
    }
   ],
   "source": [
    "a = int(input('Enter number:-'))\n",
    "if(a>=0):\n",
    "    print(\"positive\")\n",
    "else:\n",
    "    print('Negative')"
   ]
  },
  {
   "cell_type": "markdown",
   "metadata": {},
   "source": [
    "### 02) WAP to check whether the given number is odd or even."
   ]
  },
  {
   "cell_type": "code",
   "execution_count": 2,
   "metadata": {},
   "outputs": [
    {
     "name": "stdout",
     "output_type": "stream",
     "text": [
      "Enter number:-5\n",
      "odd\n"
     ]
    }
   ],
   "source": [
    "a=int(input('Enter number:-'))\n",
    "if(a%2==0):\n",
    "    print('even')\n",
    "else:\n",
    "    print('odd')\n",
    "    "
   ]
  },
  {
   "cell_type": "markdown",
   "metadata": {},
   "source": [
    "### 03) WAP to find out largest number from given two numbers using simple if and ternary operator."
   ]
  },
  {
   "cell_type": "code",
   "execution_count": 4,
   "metadata": {},
   "outputs": [
    {
     "name": "stdout",
     "output_type": "stream",
     "text": [
      "Enter number:-1\n",
      "Enter number:-2\n",
      "2 ia Largest\n"
     ]
    }
   ],
   "source": [
    "a=int(input('Enter number:-'))\n",
    "b=int(input('Enter number:-'))\n",
    "if(a>=b):\n",
    "    print(f'{a} is Largest')\n",
    "else:\n",
    "    print(f'{b} ia Largest')\n",
    "    "
   ]
  },
  {
   "cell_type": "markdown",
   "metadata": {},
   "source": [
    "### 04) WAP to find out largest number from given three numbers."
   ]
  },
  {
   "cell_type": "code",
   "execution_count": 6,
   "metadata": {},
   "outputs": [
    {
     "name": "stdout",
     "output_type": "stream",
     "text": [
      "Enter number:-1\n",
      "Enter number:-2\n",
      "Enter number:-3\n",
      "3 is Largest Number\n"
     ]
    }
   ],
   "source": [
    "a=int(input('Enter number:-'))\n",
    "b=int(input('Enter number:-'))\n",
    "c=int(input('Enter number:-'))\n",
    "if(a>b):\n",
    "    if(a>c):\n",
    "        print(f'{a} is Largest Number')\n",
    "    else:\n",
    "        (f'{c} is Largest Number')\n",
    "if(b>c):\n",
    "    print(f'{b} is Largest Number')\n",
    "else:\n",
    "    print(f'{c} is Largest Number')"
   ]
  },
  {
   "cell_type": "markdown",
   "metadata": {},
   "source": [
    "### 05) WAP to check whether the given year is leap year or not.\n",
    "[If a year can be divisible by 4 but not divisible by 100 then it is leap year but if it is divisible by 400 then it is leap year]"
   ]
  },
  {
   "cell_type": "code",
   "execution_count": 18,
   "metadata": {},
   "outputs": [
    {
     "name": "stdout",
     "output_type": "stream",
     "text": [
      "Enter Year:2024\n",
      "Year is Leap Year:2024\n"
     ]
    }
   ],
   "source": [
    "year = int(input(\"Enter Year:\"))\n",
    "if(year%4==0):\n",
    "    if(year%100==0):\n",
    "        if(year%400==0):\n",
    "            print(f\"Year is Leap Year:{year}\")\n",
    "        else:\n",
    "            print(f\"Year is Not Leap Year:{year}\")\n",
    "    else:\n",
    "        print(f\"Year is Leap Year:{year}\")\n",
    "else:\n",
    "    print(f\"Year is not Leap Year:{year}\")\n"
   ]
  },
  {
   "cell_type": "markdown",
   "metadata": {},
   "source": [
    "### 06) WAP in python to display the name of the day according to the number given by the user."
   ]
  },
  {
   "cell_type": "code",
   "execution_count": 15,
   "metadata": {},
   "outputs": [
    {
     "name": "stdout",
     "output_type": "stream",
     "text": [
      "Enter 1-7 Number:4\n",
      "4:Thursday\n"
     ]
    }
   ],
   "source": [
    "day = int(input(\"Enter 1-7 Number:\"))\n",
    "if(day==1):\n",
    " print(f\"{day}:Monday\")\n",
    "elif(day==2):\n",
    " print(f\"{day}:Tuesday\")\n",
    "elif(day==3):\n",
    " print(f\"{day}:Wednesday\")\n",
    "elif(day==4):\n",
    " print(f\"{day}:Thursday\")\n",
    "elif(day==5):\n",
    " print(f\"{day}:Friday\")\n",
    "elif(day==6):\n",
    " print(f\"{day}:saturday\")\n",
    "elif(day==7):\n",
    " print(f\"{day}:Sunday\")\n",
    "else:\n",
    " print(\"Enter Proper Day\")"
   ]
  },
  {
   "cell_type": "markdown",
   "metadata": {},
   "source": [
    "### 07) WAP to implement simple calculator which performs (add,sub,mul,div) of two no. based on user input."
   ]
  },
  {
   "cell_type": "code",
   "execution_count": 9,
   "metadata": {},
   "outputs": [
    {
     "name": "stdout",
     "output_type": "stream",
     "text": [
      "Enter 1st Number :1\n",
      "Enter 2nd Number :2\n",
      "What mathematics operation would you like to perform :-*\n",
      "multiplication : 2\n"
     ]
    }
   ],
   "source": [
    "num1 = int(input('Enter 1st Number :'))\n",
    "num2 = int(input('Enter 2nd Number :'))\n",
    "choice = (input('What mathematics operation would you like to perform :'))\n",
    "if(choice=='+'):\n",
    "    print(f'Addition : {num1 + num2}')\n",
    "if(choice=='-'):\n",
    "    print(f'Subtractio : {num1 - num2}')\n",
    "if(choice=='*'):\n",
    "    print(f'multiplication : {num1 * num2}')\n",
    "if(choice=='+'):\n",
    "    print(f'division : {num1 / num2}')\n",
    "    "
   ]
  },
  {
   "cell_type": "markdown",
   "metadata": {},
   "source": [
    "### 08) WAP to read marks of five subjects. Calculate percentage and print class accordingly. \n",
    "Fail below 35 </br>\n",
    "Pass Class between 35 to 45 </br>\n",
    "Second Class</br>\n",
    "between 45 to 60</br>\n",
    "First Class between 60 to 70</br> \n",
    "Distinction if more than 70"
   ]
  },
  {
   "cell_type": "code",
   "execution_count": 12,
   "metadata": {},
   "outputs": [
    {
     "name": "stdout",
     "output_type": "stream",
     "text": [
      "Enter JAVA Marks:50\n",
      "Enter PYTHON Marks:50\n",
      "Enter C Marks:5\n",
      "Enter CSS Marks:050\n",
      "Enter HTML Marks:50\n",
      "JUST PASSED CLASS\n"
     ]
    }
   ],
   "source": [
    "java = int(input('Enter JAVA Marks:'))\n",
    "python = int(input('Enter PYTHON Marks:'))\n",
    "c = int(input('Enter C Marks:'))\n",
    "css = int(input('Enter CSS Marks:'))\n",
    "html = int(input('Enter HTML Marks:'))\n",
    "per = ((java+python+c+css+html)/500)*100\n",
    "if(per >= 70) :\n",
    "    print('DISTINCITION')\n",
    "if(per>=60 and per <70):\n",
    "    print('FIRST CLASS')\n",
    "if(per>=45 and per <60):\n",
    "    print('SECOND CLASS')\n",
    "if(per>=35 and per <45):\n",
    "    print('JUST PASSED CLASS')\n",
    "if(per <35):\n",
    "    print('FAILED')"
   ]
  },
  {
   "cell_type": "markdown",
   "metadata": {},
   "source": [
    "### 09) Three sides of a triangle are entered through the keyboard, WAP to check whether the triangle is isosceles, equilateral, scalene or right-angled triangle."
   ]
  },
  {
   "cell_type": "code",
   "execution_count": null,
   "metadata": {},
   "outputs": [],
   "source": [
    "s1 = int(input('Enter 1st side of triangle :'))\n",
    "s2 = int(input('Enter 1st side of triangle :'))\n",
    "s3 = int(input('Enter 1st side of triangle :'))\n",
    "if(s1==s2 and s2==s3):\n",
    "    print(f'triangle with side 1 :{s1} side 2:{s2} side 3:{s3} is an Equilateral Triangle')\n",
    "elif(s1!=s2 and s2!=s3 and s1!=s3):\n",
    "    print(f'triangle with side 1 :{s1} side 2:{s2} side 3:{s3} is an scalene Triangle')\n",
    "else:  \n",
    "    print(f'triangle with side 1 :{s1} side 2:{s2} side 3:{s3} is an iso-Scalene Triangle')\n"
   ]
  },
  {
   "cell_type": "markdown",
   "metadata": {},
   "source": [
    "### 10) WAP to find the second largest number among three user input numbers."
   ]
  },
  {
   "cell_type": "code",
   "execution_count": null,
   "metadata": {},
   "outputs": [],
   "source": [
    "num1 = int(input(\"Enter Number:\"))\n",
    "num2 = int(input(\"Enter Number:\"))\n",
    "num3 = int(input(\"Enter Number:\"))\n",
    "if(num1>=num2):\n",
    "    if(num1>=num3):\n",
    "        if(num2>num3):\n",
    "            print(\"number 2 is second largest\",num2)\n",
    "        else:\n",
    "            print(\"number 3 is second largest\",num3)\n",
    "    else:\n",
    "        if(num1>num2):\n",
    "            print(\"number 1 is second largest\",num1)\n",
    "        else:\n",
    "            print(\"number 2 is second largest\",num2)\n",
    "else:\n",
    "    if(num2>=num3):\n",
    "        if(num1>num3):\n",
    "            print(\"number 1 is second largest\",num1)\n",
    "        else:\n",
    "            print(\"number 3 is second largest\",num3)\n",
    "    else:\n",
    "        if(num1>num2):\n",
    "            print(\"number 1 is second largest\",num1)\n",
    "        else:\n",
    "            print(\"number 2 is second largest\",num2)         "
   ]
  },
  {
   "cell_type": "markdown",
   "metadata": {},
   "source": [
    "### 11) WAP to calculate electricity bill based on following criteria. Which takes the unit from the user.\n",
    "a. First 1 to 50 units – Rs. 2.60/unit</br>\n",
    "b. Next 50 to 100 units – Rs. 3.25/unit</br>\n",
    "c. Next 100 to 200 units – Rs. 5.26/unit</br>\n",
    "d. above 200 units – Rs. 8.45/unit"
   ]
  },
  {
   "cell_type": "code",
   "execution_count": null,
   "metadata": {},
   "outputs": [],
   "source": [
    "unit = int(input(\"Enter Electric Unit:\"))\n",
    "if(unit>1 and unit<50):\n",
    " ans = unit * 2.60\n",
    "elif(unit<100):\n",
    " ans = 130 + ((unit - 50) * 3.25)\n",
    "elif(unit<=200):\n",
    " ans = 292.5 + ((unit - 100) * 5.26)\n",
    "else:\n",
    " ans = 818.5 + ((unit - 200) * 8.45)\n",
    "\n",
    "print(f\"Total Bill :{ans}/-\")"
   ]
  }
 ],
 "metadata": {
  "kernelspec": {
   "display_name": "Python 3 (ipykernel)",
   "language": "python",
   "name": "python3"
  },
  "language_info": {
   "codemirror_mode": {
    "name": "ipython",
    "version": 3
   },
   "file_extension": ".py",
   "mimetype": "text/x-python",
   "name": "python",
   "nbconvert_exporter": "python",
   "pygments_lexer": "ipython3",
   "version": "3.10.9"
  }
 },
 "nbformat": 4,
 "nbformat_minor": 4
}
