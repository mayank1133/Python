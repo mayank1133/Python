{
 "cells": [
  {
   "cell_type": "markdown",
   "metadata": {},
   "source": [
    "\n",
    "<a href='https://www.darshan.ac.in/'> <img src='https://www.darshan.ac.in/Content/media/DU_Logo.svg' width=\"250\" height=\"300\"/></a>\n",
    "<pre>\n",
    "<center><b><h1>Python Programming - 2301CS404</b></center>\n",
    "<center><b><h1>Lab - 3</b></center>    \n",
    "<pre>"
   ]
  },
  {
   "cell_type": "markdown",
   "metadata": {},
   "source": [
    "# for and while loop"
   ]
  },
  {
   "cell_type": "markdown",
   "metadata": {},
   "source": [
    "### 01) WAP to print 1 to 10."
   ]
  },
  {
   "cell_type": "code",
   "execution_count": 8,
   "metadata": {},
   "outputs": [
    {
     "name": "stdout",
     "output_type": "stream",
     "text": [
      "0\n",
      "1\n",
      "2\n",
      "3\n",
      "4\n",
      "5\n",
      "6\n",
      "7\n",
      "8\n",
      "9\n",
      "10\n"
     ]
    }
   ],
   "source": [
    "for i in range (0,11):\n",
    "    print(i)\n"
   ]
  },
  {
   "cell_type": "code",
   "execution_count": 6,
   "metadata": {},
   "outputs": [
    {
     "name": "stdout",
     "output_type": "stream",
     "text": [
      "4\n",
      "5\n",
      "6\n",
      "7\n",
      "8\n",
      "9\n",
      "10\n"
     ]
    }
   ],
   "source": [
    "while i<=10:\n",
    "    print(i)\n",
    "    i+=1;"
   ]
  },
  {
   "cell_type": "markdown",
   "metadata": {},
   "source": [
    "### 02) WAP to print 1 to n."
   ]
  },
  {
   "cell_type": "code",
   "execution_count": 11,
   "metadata": {},
   "outputs": [
    {
     "name": "stdout",
     "output_type": "stream",
     "text": [
      "Enter number:-5\n",
      "1\n",
      "2\n",
      "3\n",
      "4\n",
      "5\n"
     ]
    }
   ],
   "source": [
    "a = int(input('Enter number:-'))\n",
    "for i in range (1,a+1):\n",
    "    print(i)\n"
   ]
  },
  {
   "cell_type": "code",
   "execution_count": 10,
   "metadata": {},
   "outputs": [
    {
     "name": "stdout",
     "output_type": "stream",
     "text": [
      "Enter number:-5\n",
      "1\n",
      "2\n",
      "3\n",
      "4\n",
      "5\n"
     ]
    }
   ],
   "source": [
    "a = int(input('Enter number:-'))\n",
    "\n",
    "i=1\n",
    "while i<=a:\n",
    "    print(i)\n",
    "    i+=1;"
   ]
  },
  {
   "cell_type": "markdown",
   "metadata": {},
   "source": [
    "### 03) WAP to print odd numbers between 1 to n."
   ]
  },
  {
   "cell_type": "code",
   "execution_count": 7,
   "metadata": {},
   "outputs": [
    {
     "name": "stdout",
     "output_type": "stream",
     "text": [
      "Enter number:-10\n",
      "1\n",
      "3\n",
      "5\n",
      "7\n",
      "9\n"
     ]
    }
   ],
   "source": [
    "a = int(input('Enter number:-'))\n",
    "for i in range (1,a+1):\n",
    "    if(i%2!=0):\n",
    "        print(i)"
   ]
  },
  {
   "cell_type": "code",
   "execution_count": 1,
   "metadata": {},
   "outputs": [
    {
     "name": "stdout",
     "output_type": "stream",
     "text": [
      "Enter number:-5\n",
      "1\n",
      "3\n",
      "5\n"
     ]
    }
   ],
   "source": [
    "a = int(input('Enter number:-'))\n",
    "i=1\n",
    "while i<=a:\n",
    "    if(i%2!=0):\n",
    "        print(i)\n",
    "    i+=1"
   ]
  },
  {
   "cell_type": "markdown",
   "metadata": {},
   "source": [
    "### 04) WAP to print numbers between two given numbers which is divisible by 2 but not divisible by 3."
   ]
  },
  {
   "cell_type": "code",
   "execution_count": 2,
   "metadata": {},
   "outputs": [
    {
     "name": "stdout",
     "output_type": "stream",
     "text": [
      "Enter number:-6\n",
      "Enter number:-16\n",
      "8\n",
      "10\n",
      "14\n"
     ]
    }
   ],
   "source": [
    "a=int(input('Enter number:-'))\n",
    "b=int(input('Enter number:-'))\n",
    "for i in range(a,b):\n",
    "    if(i%2==0):\n",
    "        if(i%3!=0):\n",
    "            print(i)"
   ]
  },
  {
   "cell_type": "code",
   "execution_count": null,
   "metadata": {},
   "outputs": [
    {
     "name": "stdout",
     "output_type": "stream",
     "text": [
      "Enter number:-5\n",
      "Enter number:-10\n"
     ]
    }
   ],
   "source": [
    "a=int(input('Enter number:-'))\n",
    "b=int(input('Enter number:-'))\n",
    "i=a\n",
    "while a<=b:\n",
    "     if(a%2==0 and a%3!=0):\n",
    "        print(i)\n",
    "        a+=1"
   ]
  },
  {
   "cell_type": "markdown",
   "metadata": {},
   "source": [
    "### 05) WAP to print sum of 1 to n numbers."
   ]
  },
  {
   "cell_type": "code",
   "execution_count": 1,
   "metadata": {},
   "outputs": [
    {
     "name": "stdout",
     "output_type": "stream",
     "text": [
      "Enter number:-5\n",
      "15\n"
     ]
    }
   ],
   "source": [
    "n=int(input('Enter number:-'))\n",
    "ans=0\n",
    "for i in range(1,n+1):\n",
    "    ans+=i\n",
    "print(ans)\n",
    "    "
   ]
  },
  {
   "cell_type": "code",
   "execution_count": 2,
   "metadata": {},
   "outputs": [
    {
     "name": "stdout",
     "output_type": "stream",
     "text": [
      "Enter number:-5\n",
      "15\n"
     ]
    }
   ],
   "source": [
    "n=int(input('Enter number:-'))\n",
    "ans=0\n",
    "i=1\n",
    "while i<=n:\n",
    "    ans+=i\n",
    "    i+=1\n",
    "print(ans)"
   ]
  },
  {
   "cell_type": "markdown",
   "metadata": {},
   "source": [
    "### 06) WAP to print sum of series 1 + 4 + 9 + 16 + 25 + 36 + ...n."
   ]
  },
  {
   "cell_type": "code",
   "execution_count": 1,
   "metadata": {},
   "outputs": [
    {
     "name": "stdout",
     "output_type": "stream",
     "text": [
      "Enter number:-5\n",
      "55\n"
     ]
    }
   ],
   "source": [
    "n=int(input('Enter number:-'))\n",
    "ans=0\n",
    "for i in range(1,n+1):\n",
    "    ans+=(i*i)\n",
    "print(ans)"
   ]
  },
  {
   "cell_type": "code",
   "execution_count": 2,
   "metadata": {},
   "outputs": [
    {
     "name": "stdout",
     "output_type": "stream",
     "text": [
      "Enter number:-5\n",
      "55\n"
     ]
    }
   ],
   "source": [
    "n=int(input('Enter number:-'))\n",
    "ans=0\n",
    "i=1\n",
    "while i<=n:\n",
    "    ans+=(i*i)\n",
    "    i+=1\n",
    "print(ans)"
   ]
  },
  {
   "cell_type": "markdown",
   "metadata": {},
   "source": [
    "### 07) WAP to print sum of series 1 – 2 + 3 – 4 + 5 – 6 + 7 ... n."
   ]
  },
  {
   "cell_type": "code",
   "execution_count": 4,
   "metadata": {},
   "outputs": [
    {
     "name": "stdout",
     "output_type": "stream",
     "text": [
      "Enter number:-5\n",
      "3\n"
     ]
    }
   ],
   "source": [
    "n=int(input('Enter number:-'))\n",
    "ans=0\n",
    "for i in range(1,n+1):\n",
    "    if(i%2==0):\n",
    "        ans-=i\n",
    "    else:\n",
    "        ans+=i\n",
    "print(ans)"
   ]
  },
  {
   "cell_type": "code",
   "execution_count": 1,
   "metadata": {},
   "outputs": [
    {
     "name": "stdout",
     "output_type": "stream",
     "text": [
      "Enter number:-5\n",
      "3\n"
     ]
    }
   ],
   "source": [
    "n=int(input('Enter number:-'))\n",
    "ans=0\n",
    "i=1\n",
    "while i<=n:\n",
    "    if(i%2==0):\n",
    "        ans-=i\n",
    "    else:\n",
    "        ans+=i\n",
    "    i+=1\n",
    "print(ans)"
   ]
  },
  {
   "cell_type": "markdown",
   "metadata": {},
   "source": [
    "### 08) WAP to print multiplication table of given number."
   ]
  },
  {
   "cell_type": "code",
   "execution_count": 4,
   "metadata": {},
   "outputs": [
    {
     "name": "stdout",
     "output_type": "stream",
     "text": [
      "Enter number:-5\n",
      "5 X 1 = 5\n",
      "5 X 2 = 10\n",
      "5 X 3 = 15\n",
      "5 X 4 = 20\n",
      "5 X 5 = 25\n",
      "5 X 6 = 30\n",
      "5 X 7 = 35\n",
      "5 X 8 = 40\n",
      "5 X 9 = 45\n",
      "5 X 10 = 50\n"
     ]
    }
   ],
   "source": [
    "n=int(input('Enter number:-'))\n",
    "for i in range(1,11):\n",
    "    print(f\"{n} X {i} = {n*i}\")"
   ]
  },
  {
   "cell_type": "code",
   "execution_count": 5,
   "metadata": {},
   "outputs": [
    {
     "name": "stdout",
     "output_type": "stream",
     "text": [
      "Enter number:-5\n",
      "5 X 1 = 5\n",
      "5 X 2 = 10\n",
      "5 X 3 = 15\n",
      "5 X 4 = 20\n",
      "5 X 5 = 25\n",
      "5 X 6 = 30\n",
      "5 X 7 = 35\n",
      "5 X 8 = 40\n",
      "5 X 9 = 45\n",
      "5 X 10 = 50\n"
     ]
    }
   ],
   "source": [
    "n=int(input('Enter number:-'))\n",
    "i=1\n",
    "while i<=10:\n",
    "    print(f\"{n} X {i} = {n*i}\")\n",
    "    i+=1"
   ]
  },
  {
   "cell_type": "markdown",
   "metadata": {},
   "source": [
    "### 09) WAP to find factorial of the given number."
   ]
  },
  {
   "cell_type": "code",
   "execution_count": 9,
   "metadata": {},
   "outputs": [
    {
     "name": "stdout",
     "output_type": "stream",
     "text": [
      "Enter number:-5\n",
      "Factorical od 5 is 120\n"
     ]
    }
   ],
   "source": [
    "n=int(input('Enter number:-'))\n",
    "ans=1\n",
    "for i in range(1,n+1):\n",
    "    ans*=i\n",
    "print(f\"Factorical od {n} is {ans}\")"
   ]
  },
  {
   "cell_type": "code",
   "execution_count": 11,
   "metadata": {},
   "outputs": [
    {
     "name": "stdout",
     "output_type": "stream",
     "text": [
      "Enter number:-5\n",
      "Factorical od 5 is 120\n"
     ]
    }
   ],
   "source": [
    "n=int(input('Enter number:-'))\n",
    "ans=1\n",
    "i=1\n",
    "while i<=n:\n",
    "    ans*=i\n",
    "    i+=1\n",
    "print(f\"Factorical od {n} is {ans}\")"
   ]
  },
  {
   "cell_type": "markdown",
   "metadata": {},
   "source": [
    "### 10) WAP to find factors of the given number."
   ]
  },
  {
   "cell_type": "code",
   "execution_count": 15,
   "metadata": {},
   "outputs": [
    {
     "name": "stdout",
     "output_type": "stream",
     "text": [
      "Enter Number:5\n",
      "Factor:1\n",
      "Factor:5\n"
     ]
    }
   ],
   "source": [
    "n = int(input(\"Enter Number:\"))\n",
    "for i in range(1,n+1):\n",
    "    if(n%i==0):\n",
    "        print(f\"Factor:{i}\")"
   ]
  },
  {
   "cell_type": "code",
   "execution_count": 1,
   "metadata": {},
   "outputs": [
    {
     "name": "stdout",
     "output_type": "stream",
     "text": [
      "Enter Number:5\n",
      "Factor:1\n",
      "Factor:5\n"
     ]
    }
   ],
   "source": [
    "n = int(input(\"Enter Number:\"))\n",
    "i=1\n",
    "while i<=n:\n",
    "    if(n%i==0):\n",
    "        print(f\"Factor:{i}\")\n",
    "    i+=1"
   ]
  },
  {
   "cell_type": "markdown",
   "metadata": {},
   "source": [
    "### 11) WAP to find whether the given number is prime or not."
   ]
  },
  {
   "cell_type": "code",
   "execution_count": 5,
   "metadata": {},
   "outputs": [
    {
     "name": "stdout",
     "output_type": "stream",
     "text": [
      "Enter Number:5\n",
      "Prime\n"
     ]
    }
   ],
   "source": [
    "import math;\n",
    "n = int(input(\"Enter Number:\"))\n",
    "for i in range(2,n):\n",
    "    if(n%i==0):\n",
    "        print(\"Not Prime\")\n",
    "        break;\n",
    "else:\n",
    "    print(\"Prime\")"
   ]
  },
  {
   "cell_type": "code",
   "execution_count": 13,
   "metadata": {},
   "outputs": [
    {
     "name": "stdout",
     "output_type": "stream",
     "text": [
      "Enter Number:5\n",
      "Prime\n"
     ]
    }
   ],
   "source": [
    "import math;\n",
    "n = int(input(\"Enter Number:\"))\n",
    "while i<=n:\n",
    "    if(n%i==0):\n",
    "        print(\"Not Prime\")\n",
    "        break;\n",
    "else:\n",
    "    print(\"Prime\")\n",
    "i+=1"
   ]
  },
  {
   "cell_type": "markdown",
   "metadata": {},
   "source": [
    "### 12) WAP to print sum of digits of given number."
   ]
  },
  {
   "cell_type": "code",
   "execution_count": 15,
   "metadata": {},
   "outputs": [
    {
     "name": "stdout",
     "output_type": "stream",
     "text": [
      "Enter Number:15\n",
      "6\n"
     ]
    }
   ],
   "source": [
    "n = int(input(\"Enter Number:\"))\n",
    "rem = 0\n",
    "ans = 0\n",
    "while n>0:\n",
    "    rem=n%10\n",
    "    ans+=rem\n",
    "    n//=10\n",
    "print(ans)"
   ]
  },
  {
   "cell_type": "code",
   "execution_count": 17,
   "metadata": {},
   "outputs": [
    {
     "name": "stdout",
     "output_type": "stream",
     "text": [
      "Enter Number:15\n",
      "6\n"
     ]
    }
   ],
   "source": [
    "n = int(input(\"Enter Number:\"))\n",
    "rem = 0\n",
    "ans = 0\n",
    "for i in range (0,n):\n",
    "    rem=n%10\n",
    "    ans+=rem\n",
    "    n//=10\n",
    "print(ans)"
   ]
  },
  {
   "cell_type": "markdown",
   "metadata": {},
   "source": [
    "### 13) WAP to check whether the given number is palindrome or not"
   ]
  },
  {
   "cell_type": "code",
   "execution_count": 19,
   "metadata": {},
   "outputs": [
    {
     "name": "stdout",
     "output_type": "stream",
     "text": [
      "Enter Number:123\n",
      "Not Palindrome\n"
     ]
    }
   ],
   "source": [
    "n = int(input(\"Enter Number:\"))\n",
    "rem = 0\n",
    "ans = 0\n",
    "for i in range (0,n):\n",
    "    rem=n%10\n",
    "    ans = ans * 10 + rem\n",
    "    n//=10\n",
    "if original==ans:\n",
    "    print(\"Palindrome\")\n",
    "else:\n",
    "    print(\"Not Palindrome\")"
   ]
  },
  {
   "cell_type": "code",
   "execution_count": 21,
   "metadata": {},
   "outputs": [
    {
     "name": "stdout",
     "output_type": "stream",
     "text": [
      "Enter Number:12321\n",
      "Palindrome\n"
     ]
    }
   ],
   "source": [
    "n = int(input(\"Enter Number:\"))\n",
    "original = n\n",
    "ans = 0\n",
    "rem = 0\n",
    "while n>0:\n",
    "    rem=n%10\n",
    "    ans = ans * 10 + rem\n",
    "    n//=10\n",
    "if original==ans:\n",
    "    print(\"Palindrome\")\n",
    "else:\n",
    "    print(\"Not Palindrome\")"
   ]
  },
  {
   "cell_type": "markdown",
   "metadata": {},
   "source": [
    "### 14) WAP to print GCD of given two numbers."
   ]
  },
  {
   "cell_type": "code",
   "execution_count": 24,
   "metadata": {},
   "outputs": [
    {
     "name": "stdout",
     "output_type": "stream",
     "text": [
      "Enter number:-20\n",
      "Enter number:-50\n",
      "GCD is 10\n"
     ]
    }
   ],
   "source": [
    "a=int(input('Enter number:-'))\n",
    "b=int(input('Enter number:-'))\n",
    "while b!=0:\n",
    "    a,b = b,a%b\n",
    "print(\"GCD is\",a)"
   ]
  }
 ],
 "metadata": {
  "kernelspec": {
   "display_name": "Python 3 (ipykernel)",
   "language": "python",
   "name": "python3"
  },
  "language_info": {
   "codemirror_mode": {
    "name": "ipython",
    "version": 3
   },
   "file_extension": ".py",
   "mimetype": "text/x-python",
   "name": "python",
   "nbconvert_exporter": "python",
   "pygments_lexer": "ipython3",
   "version": "3.10.9"
  }
 },
 "nbformat": 4,
 "nbformat_minor": 4
}
