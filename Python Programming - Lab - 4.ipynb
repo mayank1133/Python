{
 "cells": [
  {
   "cell_type": "markdown",
   "metadata": {},
   "source": [
    "\n",
    "<a href='https://www.darshan.ac.in/'> <img src='https://www.darshan.ac.in/Content/media/DU_Logo.svg' width=\"250\" height=\"300\"/></a>\n",
    "<pre>\n",
    "<center><b><h1>Python Programming - 2301CS404</b></center>\n",
    "<center><b><h1>Lab - 4</b></center>    \n",
    "<pre>"
   ]
  },
  {
   "cell_type": "markdown",
   "metadata": {},
   "source": [
    "# String"
   ]
  },
  {
   "cell_type": "markdown",
   "metadata": {},
   "source": [
    "### 01) WAP to check whether the given string is palindrome or not."
   ]
  },
  {
   "cell_type": "code",
   "execution_count": 12,
   "metadata": {},
   "outputs": [
    {
     "name": "stdout",
     "output_type": "stream",
     "text": [
      "Enter String:-hdvuhw\n",
      "hdvuhw is not Palindrome\n"
     ]
    }
   ],
   "source": [
    "a = input('Enter String:-')\n",
    "reverse=a[::-1]\n",
    "if(reverse==a):\n",
    "    print(f\"{a} is Palindrome\")\n",
    "else: \n",
    "    print(f\"{a} is not Palindrome\")\n"
   ]
  },
  {
   "cell_type": "markdown",
   "metadata": {},
   "source": [
    "### 02) WAP to reverse the words in the given string."
   ]
  },
  {
   "cell_type": "code",
   "execution_count": 11,
   "metadata": {},
   "outputs": [
    {
     "name": "stdout",
     "output_type": "stream",
     "text": [
      "Enter String:-ydfgwgdfc\n",
      "cfdgwgfdy is a reverse of ydfgwgdfc\n"
     ]
    }
   ],
   "source": [
    "a = input('Enter String:-')\n",
    "reverse=a[::-1]\n",
    "print(f\"{reverse} is a reverse of {a}\")"
   ]
  },
  {
   "cell_type": "markdown",
   "metadata": {},
   "source": [
    "### 03) WAP to remove ith character from given string."
   ]
  },
  {
   "cell_type": "code",
   "execution_count": 18,
   "metadata": {},
   "outputs": [
    {
     "name": "stdout",
     "output_type": "stream",
     "text": [
      "Enter String:-fyuihger\n",
      "Enter position of elemet you want remove from string:-3\n",
      "fyihger\n"
     ]
    }
   ],
   "source": [
    "a = input('Enter String:-')\n",
    "n=int(input('Enter position of elemet you want remove from string:-'))\n",
    "str=a[0:(n-1)]+a[n::]\n",
    "print(str)"
   ]
  },
  {
   "cell_type": "markdown",
   "metadata": {},
   "source": [
    "### 04) WAP to find length of string without using len function."
   ]
  },
  {
   "cell_type": "code",
   "execution_count": 19,
   "metadata": {},
   "outputs": [
    {
     "name": "stdout",
     "output_type": "stream",
     "text": [
      "Enter String:-ujgwuieg\n",
      "There are 8 no fo character in string 'ujgwuieg'\n"
     ]
    }
   ],
   "source": [
    "a = input('Enter String:-')\n",
    "count=0\n",
    "for i in a:\n",
    "    count+=1\n",
    "print(f\"There are {count} no fo character in string '{a}'\")"
   ]
  },
  {
   "cell_type": "markdown",
   "metadata": {},
   "source": [
    "### 05) WAP to print even length word in string."
   ]
  },
  {
   "cell_type": "code",
   "execution_count": 23,
   "metadata": {},
   "outputs": [
    {
     "name": "stdout",
     "output_type": "stream",
     "text": [
      "Enter String:-wufh egriuer fgvure eurnb\n",
      "['wufh', 'egriuer', 'fgvure', 'eurnb']\n",
      "Even Word wufh\n",
      "Even Word fgvure\n"
     ]
    }
   ],
   "source": [
    "a = input('Enter String:-')\n",
    "str=a.split()\n",
    "print(str)\n",
    "for i in str:\n",
    "    if(len(i)%2==0):\n",
    "        print('Even Word',i)"
   ]
  },
  {
   "cell_type": "markdown",
   "metadata": {},
   "source": [
    "### 06) WAP to count numbers of vowels in given string."
   ]
  },
  {
   "cell_type": "code",
   "execution_count": 27,
   "metadata": {},
   "outputs": [
    {
     "name": "stdout",
     "output_type": "stream",
     "text": [
      "Enter String:-dnvguiwgwj\n",
      "2\n"
     ]
    }
   ],
   "source": [
    "a = input('Enter String:-')\n",
    "count=0\n",
    "str=a.lower()\n",
    "for i in str:\n",
    "    if(i=='a' or i=='e' or i=='i' or i=='o' or i=='u'):\n",
    "        count+=1\n",
    "print(count)"
   ]
  },
  {
   "cell_type": "markdown",
   "metadata": {},
   "source": [
    "### 07) WAP to capitalize the first and last character of each word in a string."
   ]
  },
  {
   "cell_type": "code",
   "execution_count": 2,
   "metadata": {},
   "outputs": [
    {
     "name": "stdout",
     "output_type": "stream",
     "text": [
      "Enter String:bv urbgur ifjnbtr jbv\n",
      "BV UrbguR IfjnbtR JbV \n"
     ]
    }
   ],
   "source": [
    "str = input(\"Enter String:\")\n",
    "ans = \"\"\n",
    "finans = \"\"\n",
    "s = str.split(\" \")\n",
    "for i in s:\n",
    "    ans = i[0:1:].upper() + i[1:len(i)-1:] + i[len(i)-1::].upper()\n",
    "    finans += ans + \" \"\n",
    "print(finans)\n"
   ]
  },
  {
   "cell_type": "markdown",
   "metadata": {},
   "source": [
    "### 08) WAP to convert given array to string."
   ]
  },
  {
   "cell_type": "code",
   "execution_count": 3,
   "metadata": {},
   "outputs": [
    {
     "name": "stdout",
     "output_type": "stream",
     "text": [
      "Hello My Name is Himanshu \n"
     ]
    }
   ],
   "source": [
    "arr = [\"Hello\",\"My\",\"Name\",\"is\",\"Himanshu\"]\n",
    "str = \"\"\n",
    "for i in arr:\n",
    "    str+=i+\" \"\n",
    "print(str)\n",
    "# ans = \" \".join(arr)\n"
   ]
  },
  {
   "cell_type": "markdown",
   "metadata": {},
   "source": [
    "### 09) Check if the password and confirm password is same or not. \n",
    "### In case of only case's mistake, show the error message."
   ]
  },
  {
   "cell_type": "code",
   "execution_count": 5,
   "metadata": {},
   "outputs": [
    {
     "name": "stdout",
     "output_type": "stream",
     "text": [
      "Enter String:wjfuihf\n",
      "Enter String:bvwebgv\n",
      "Incorrect Password\n"
     ]
    }
   ],
   "source": [
    "str = input(\"Enter String:\")\n",
    "str2 = input(\"Enter String:\")\n",
    "if(str==str2):\n",
    "    print('correct password')\n",
    "elif (str.upper()==str2.upper()):\n",
    "    print(\"you have made CASE's mistake please correct\")\n",
    "else :\n",
    "    print('Incorrect Password')"
   ]
  },
  {
   "cell_type": "markdown",
   "metadata": {},
   "source": [
    "### 10) : Display credit card number. \n",
    "### card no. : 1234 5678 9012 3456\n",
    "### display as  : **** **** **** 3456"
   ]
  },
  {
   "cell_type": "code",
   "execution_count": 14,
   "metadata": {},
   "outputs": [
    {
     "name": "stdout",
     "output_type": "stream",
     "text": [
      "Enter String:dfbg\n",
      "Invelid Card Number\n"
     ]
    }
   ],
   "source": [
    "str = input(\"Enter String:\")\n",
    "if(len(str)==19):\n",
    "    arr=str.split(\" \")\n",
    "    fir = '**** **** **** '+arr[-1]\n",
    "    print(fir)\n",
    "else:\n",
    "    print('Invelid Card Number')"
   ]
  },
  {
   "cell_type": "markdown",
   "metadata": {},
   "source": [
    "### 11) : Checking if the two strings are Anagram or not.\n",
    "### s1 = decimal and s2 = medical are Anagram"
   ]
  },
  {
   "cell_type": "code",
   "execution_count": 23,
   "metadata": {},
   "outputs": [
    {
     "name": "stdout",
     "output_type": "stream",
     "text": [
      "Enter String:uv\n",
      "Enter String:rfbg\n",
      "Entered string is not Anagram\n"
     ]
    }
   ],
   "source": [
    "str1 = input(\"Enter String:\")\n",
    "str2 = input(\"Enter String:\")\n",
    "a=sorted(str1)\n",
    "b=sorted(str2)\n",
    "if(a==b):\n",
    "    print(\"Entered string is Anagram\")\n",
    "else:\n",
    "    print(\"Entered string is not Anagram\")"
   ]
  },
  {
   "cell_type": "markdown",
   "metadata": {},
   "source": [
    "### 12) : Rearrange the given string. First lowercase then uppercase alphabets.\n",
    "### input : EHlsarwiwhtwMV\n",
    "### output : lsarwiwhtwEHMV"
   ]
  },
  {
   "cell_type": "code",
   "execution_count": null,
   "metadata": {},
   "outputs": [],
   "source": []
  }
 ],
 "metadata": {
  "kernelspec": {
   "display_name": "Python 3 (ipykernel)",
   "language": "python",
   "name": "python3"
  },
  "language_info": {
   "codemirror_mode": {
    "name": "ipython",
    "version": 3
   },
   "file_extension": ".py",
   "mimetype": "text/x-python",
   "name": "python",
   "nbconvert_exporter": "python",
   "pygments_lexer": "ipython3",
   "version": "3.10.9"
  },
  "vscode": {
   "interpreter": {
    "hash": "31f2aee4e71d21fbe5cf8b01ff0e069b9275f58929596ceb00d14d90e3e16cd6"
   }
  }
 },
 "nbformat": 4,
 "nbformat_minor": 4
}
